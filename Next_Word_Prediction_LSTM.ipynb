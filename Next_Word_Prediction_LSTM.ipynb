{
  "nbformat": 4,
  "nbformat_minor": 0,
  "metadata": {
    "colab": {
      "provenance": [],
      "collapsed_sections": []
    },
    "kernelspec": {
      "name": "python3",
      "display_name": "Python 3"
    },
    "language_info": {
      "name": "python"
    },
    "accelerator": "GPU",
    "gpuClass": "standard"
  },
  "cells": [
    {
      "cell_type": "markdown",
      "source": [
        "##Load txt file\n",
        "The txt file is collected from https://www.gutenberg.org/files/84/84-h/84-h.htm"
      ],
      "metadata": {
        "id": "dmRsr1v_R8vh"
      }
    },
    {
      "cell_type": "code",
      "execution_count": 1,
      "metadata": {
        "id": "Ck95wL8qp-gb",
        "colab": {
          "base_uri": "https://localhost:8080/",
          "height": 74
        },
        "outputId": "0b94d219-63a4-4708-c99f-710f248c8c0d"
      },
      "outputs": [
        {
          "output_type": "display_data",
          "data": {
            "text/plain": [
              "<IPython.core.display.HTML object>"
            ],
            "text/html": [
              "\n",
              "     <input type=\"file\" id=\"files-6b33acab-48e1-4c8b-9699-39d5c5e65322\" name=\"files[]\" multiple disabled\n",
              "        style=\"border:none\" />\n",
              "     <output id=\"result-6b33acab-48e1-4c8b-9699-39d5c5e65322\">\n",
              "      Upload widget is only available when the cell has been executed in the\n",
              "      current browser session. Please rerun this cell to enable.\n",
              "      </output>\n",
              "      <script>// Copyright 2017 Google LLC\n",
              "//\n",
              "// Licensed under the Apache License, Version 2.0 (the \"License\");\n",
              "// you may not use this file except in compliance with the License.\n",
              "// You may obtain a copy of the License at\n",
              "//\n",
              "//      http://www.apache.org/licenses/LICENSE-2.0\n",
              "//\n",
              "// Unless required by applicable law or agreed to in writing, software\n",
              "// distributed under the License is distributed on an \"AS IS\" BASIS,\n",
              "// WITHOUT WARRANTIES OR CONDITIONS OF ANY KIND, either express or implied.\n",
              "// See the License for the specific language governing permissions and\n",
              "// limitations under the License.\n",
              "\n",
              "/**\n",
              " * @fileoverview Helpers for google.colab Python module.\n",
              " */\n",
              "(function(scope) {\n",
              "function span(text, styleAttributes = {}) {\n",
              "  const element = document.createElement('span');\n",
              "  element.textContent = text;\n",
              "  for (const key of Object.keys(styleAttributes)) {\n",
              "    element.style[key] = styleAttributes[key];\n",
              "  }\n",
              "  return element;\n",
              "}\n",
              "\n",
              "// Max number of bytes which will be uploaded at a time.\n",
              "const MAX_PAYLOAD_SIZE = 100 * 1024;\n",
              "\n",
              "function _uploadFiles(inputId, outputId) {\n",
              "  const steps = uploadFilesStep(inputId, outputId);\n",
              "  const outputElement = document.getElementById(outputId);\n",
              "  // Cache steps on the outputElement to make it available for the next call\n",
              "  // to uploadFilesContinue from Python.\n",
              "  outputElement.steps = steps;\n",
              "\n",
              "  return _uploadFilesContinue(outputId);\n",
              "}\n",
              "\n",
              "// This is roughly an async generator (not supported in the browser yet),\n",
              "// where there are multiple asynchronous steps and the Python side is going\n",
              "// to poll for completion of each step.\n",
              "// This uses a Promise to block the python side on completion of each step,\n",
              "// then passes the result of the previous step as the input to the next step.\n",
              "function _uploadFilesContinue(outputId) {\n",
              "  const outputElement = document.getElementById(outputId);\n",
              "  const steps = outputElement.steps;\n",
              "\n",
              "  const next = steps.next(outputElement.lastPromiseValue);\n",
              "  return Promise.resolve(next.value.promise).then((value) => {\n",
              "    // Cache the last promise value to make it available to the next\n",
              "    // step of the generator.\n",
              "    outputElement.lastPromiseValue = value;\n",
              "    return next.value.response;\n",
              "  });\n",
              "}\n",
              "\n",
              "/**\n",
              " * Generator function which is called between each async step of the upload\n",
              " * process.\n",
              " * @param {string} inputId Element ID of the input file picker element.\n",
              " * @param {string} outputId Element ID of the output display.\n",
              " * @return {!Iterable<!Object>} Iterable of next steps.\n",
              " */\n",
              "function* uploadFilesStep(inputId, outputId) {\n",
              "  const inputElement = document.getElementById(inputId);\n",
              "  inputElement.disabled = false;\n",
              "\n",
              "  const outputElement = document.getElementById(outputId);\n",
              "  outputElement.innerHTML = '';\n",
              "\n",
              "  const pickedPromise = new Promise((resolve) => {\n",
              "    inputElement.addEventListener('change', (e) => {\n",
              "      resolve(e.target.files);\n",
              "    });\n",
              "  });\n",
              "\n",
              "  const cancel = document.createElement('button');\n",
              "  inputElement.parentElement.appendChild(cancel);\n",
              "  cancel.textContent = 'Cancel upload';\n",
              "  const cancelPromise = new Promise((resolve) => {\n",
              "    cancel.onclick = () => {\n",
              "      resolve(null);\n",
              "    };\n",
              "  });\n",
              "\n",
              "  // Wait for the user to pick the files.\n",
              "  const files = yield {\n",
              "    promise: Promise.race([pickedPromise, cancelPromise]),\n",
              "    response: {\n",
              "      action: 'starting',\n",
              "    }\n",
              "  };\n",
              "\n",
              "  cancel.remove();\n",
              "\n",
              "  // Disable the input element since further picks are not allowed.\n",
              "  inputElement.disabled = true;\n",
              "\n",
              "  if (!files) {\n",
              "    return {\n",
              "      response: {\n",
              "        action: 'complete',\n",
              "      }\n",
              "    };\n",
              "  }\n",
              "\n",
              "  for (const file of files) {\n",
              "    const li = document.createElement('li');\n",
              "    li.append(span(file.name, {fontWeight: 'bold'}));\n",
              "    li.append(span(\n",
              "        `(${file.type || 'n/a'}) - ${file.size} bytes, ` +\n",
              "        `last modified: ${\n",
              "            file.lastModifiedDate ? file.lastModifiedDate.toLocaleDateString() :\n",
              "                                    'n/a'} - `));\n",
              "    const percent = span('0% done');\n",
              "    li.appendChild(percent);\n",
              "\n",
              "    outputElement.appendChild(li);\n",
              "\n",
              "    const fileDataPromise = new Promise((resolve) => {\n",
              "      const reader = new FileReader();\n",
              "      reader.onload = (e) => {\n",
              "        resolve(e.target.result);\n",
              "      };\n",
              "      reader.readAsArrayBuffer(file);\n",
              "    });\n",
              "    // Wait for the data to be ready.\n",
              "    let fileData = yield {\n",
              "      promise: fileDataPromise,\n",
              "      response: {\n",
              "        action: 'continue',\n",
              "      }\n",
              "    };\n",
              "\n",
              "    // Use a chunked sending to avoid message size limits. See b/62115660.\n",
              "    let position = 0;\n",
              "    do {\n",
              "      const length = Math.min(fileData.byteLength - position, MAX_PAYLOAD_SIZE);\n",
              "      const chunk = new Uint8Array(fileData, position, length);\n",
              "      position += length;\n",
              "\n",
              "      const base64 = btoa(String.fromCharCode.apply(null, chunk));\n",
              "      yield {\n",
              "        response: {\n",
              "          action: 'append',\n",
              "          file: file.name,\n",
              "          data: base64,\n",
              "        },\n",
              "      };\n",
              "\n",
              "      let percentDone = fileData.byteLength === 0 ?\n",
              "          100 :\n",
              "          Math.round((position / fileData.byteLength) * 100);\n",
              "      percent.textContent = `${percentDone}% done`;\n",
              "\n",
              "    } while (position < fileData.byteLength);\n",
              "  }\n",
              "\n",
              "  // All done.\n",
              "  yield {\n",
              "    response: {\n",
              "      action: 'complete',\n",
              "    }\n",
              "  };\n",
              "}\n",
              "\n",
              "scope.google = scope.google || {};\n",
              "scope.google.colab = scope.google.colab || {};\n",
              "scope.google.colab._files = {\n",
              "  _uploadFiles,\n",
              "  _uploadFilesContinue,\n",
              "};\n",
              "})(self);\n",
              "</script> "
            ]
          },
          "metadata": {}
        },
        {
          "output_type": "stream",
          "name": "stdout",
          "text": [
            "Saving Frankenstein.txt to Frankenstein.txt\n"
          ]
        }
      ],
      "source": [
        "from google.colab import files\n",
        "file = files.upload()"
      ]
    },
    {
      "cell_type": "code",
      "source": [
        "import tensorflow as tf\n",
        "from tensorflow import keras\n",
        "\n",
        "from tensorflow.keras.preprocessing.text import Tokenizer\n",
        "from tensorflow.keras.layers import Embedding, LSTM, Dense\n",
        "from tensorflow.keras.models import Sequential\n",
        "from tensorflow.keras.utils import to_categorical\n",
        "from tensorflow.keras.optimizers import Adam\n",
        "\n",
        "from keras.callbacks import ModelCheckpoint\n",
        "\n",
        "from keras.utils.vis_utils import plot_model\n",
        "\n",
        "from tensorflow.keras.models import load_model\n",
        "\n",
        "import pickle\n",
        "import numpy as np\n",
        "import os"
      ],
      "metadata": {
        "id": "xEgRX-ObJa92"
      },
      "execution_count": 2,
      "outputs": []
    },
    {
      "cell_type": "markdown",
      "source": [
        "##Open and pre-process the data"
      ],
      "metadata": {
        "id": "1C2YWLoQSNx4"
      }
    },
    {
      "cell_type": "code",
      "source": [
        "file = open('Frankenstein.txt', 'r')\n",
        "\n",
        "#Store data of the txt file in a list\n",
        "doc = []\n",
        "for i in file:\n",
        "  doc.append(i)\n",
        "\n",
        "# Convert list to string\n",
        "data = \"\"\n",
        "for i in doc:\n",
        "  data = ' '. join(doc) \n",
        "\n",
        "#replace unnecessary stuff with space\n",
        "data = data.replace('\\n', '').replace('\\r', '').replace('\\ufeff', '')\\\n",
        "            .replace('“','').replace('”','')  #new line, carriage return, unicode character --> replace by space"
      ],
      "metadata": {
        "id": "mFg3ipPurKNJ"
      },
      "execution_count": 3,
      "outputs": []
    },
    {
      "cell_type": "code",
      "source": [
        "#remove unnecessary spaces \n",
        "data = data.split()\n",
        "data = ' '.join(data)\n",
        "print(data[:100])\n",
        "print(f\"Total number of words is {len(data)}\")"
      ],
      "metadata": {
        "id": "3m6HlqtbJ7-b",
        "colab": {
          "base_uri": "https://localhost:8080/"
        },
        "outputId": "2087870c-0785-471b-f2a5-b540557e4e31"
      },
      "execution_count": 4,
      "outputs": [
        {
          "output_type": "stream",
          "name": "stdout",
          "text": [
            "The Project Gutenberg eBook of Frankenstein, by Mary Wollstonecraft (Godwin) Shelley This eBook is f\n",
            "Total number of words is 436916\n"
          ]
        }
      ]
    },
    {
      "cell_type": "markdown",
      "source": [
        "##Apply tokenization and some other changes"
      ],
      "metadata": {
        "id": "2_eswFthS-oX"
      }
    },
    {
      "cell_type": "code",
      "source": [
        "tokenizer = Tokenizer()\n",
        "tokenizer.fit_on_texts([data])\n",
        "\n",
        "# saving the tokenizer for predict function\n",
        "pickle.dump(tokenizer, open('token.pkl', 'wb'))\n",
        "data_sequence = tokenizer.texts_to_sequences([data])[0]\n",
        "print(data_sequence[:15])"
      ],
      "metadata": {
        "colab": {
          "base_uri": "https://localhost:8080/"
        },
        "id": "MmoOh0LwS9nq",
        "outputId": "f5b625fc-dffc-48db-ce6a-d864a3af4317"
      },
      "execution_count": 5,
      "outputs": [
        {
          "output_type": "stream",
          "name": "stdout",
          "text": [
            "[1, 99, 86, 683, 4, 301, 23, 2353, 2354, 2355, 2356, 25, 683, 31, 22]\n"
          ]
        }
      ]
    },
    {
      "cell_type": "code",
      "source": [
        "print(f\"length of data_sequence is {len(data_sequence)}\")"
      ],
      "metadata": {
        "colab": {
          "base_uri": "https://localhost:8080/"
        },
        "id": "JfOUiMZwS9qg",
        "outputId": "6675f4a1-37da-42ea-ac3f-41746868661f"
      },
      "execution_count": 6,
      "outputs": [
        {
          "output_type": "stream",
          "name": "stdout",
          "text": [
            "length of data_sequence is 78466\n"
          ]
        }
      ]
    },
    {
      "cell_type": "markdown",
      "source": [
        "Tri-gram based model"
      ],
      "metadata": {
        "id": "-2EszSgXTru1"
      }
    },
    {
      "cell_type": "code",
      "source": [
        "X,y  = [], []\n",
        "k = 3\n",
        "for i in range(k, len(data_sequence)):\n",
        "    words = data_sequence[i-k:i+1]\n",
        "    X.append(words[: k])\n",
        "    y.append(words[k])\n",
        "    \n",
        "print(\"The Length of sequences are: \", len(X))\n",
        "X = np.array(X)\n",
        "y = np.array(y)\n",
        "print(f\"Data : \\n{X[:10]}\")\n",
        "print(f\"Response : \\n{y[:10]}\")"
      ],
      "metadata": {
        "colab": {
          "base_uri": "https://localhost:8080/"
        },
        "id": "ZvOan7sDS9sy",
        "outputId": "d1ef4749-1fe6-46ef-ce03-314d84ff430a"
      },
      "execution_count": 7,
      "outputs": [
        {
          "output_type": "stream",
          "name": "stdout",
          "text": [
            "The Length of sequences are:  78463\n",
            "Data : \n",
            "[[   1   99   86]\n",
            " [  99   86  683]\n",
            " [  86  683    4]\n",
            " [ 683    4  301]\n",
            " [   4  301   23]\n",
            " [ 301   23 2353]\n",
            " [  23 2353 2354]\n",
            " [2353 2354 2355]\n",
            " [2354 2355 2356]\n",
            " [2355 2356   25]]\n",
            "Response : \n",
            "[ 683    4  301   23 2353 2354 2355 2356   25  683]\n"
          ]
        }
      ]
    },
    {
      "cell_type": "code",
      "source": [
        "vocab_size = len(tokenizer.word_index) + 1 # 0 is reserved for padding and that's why we add 1\n",
        "print(f\"No of different words is {vocab_size}\")"
      ],
      "metadata": {
        "colab": {
          "base_uri": "https://localhost:8080/"
        },
        "id": "Iq6oXjHxS9vO",
        "outputId": "d3f1b3b7-f128-4501-a447-9d35ec77ac67"
      },
      "execution_count": 8,
      "outputs": [
        {
          "output_type": "stream",
          "name": "stdout",
          "text": [
            "No of different words is 7495\n"
          ]
        }
      ]
    },
    {
      "cell_type": "code",
      "source": [
        "y = to_categorical(y, num_classes = vocab_size)\n",
        "print(y[:10])"
      ],
      "metadata": {
        "colab": {
          "base_uri": "https://localhost:8080/"
        },
        "id": "wkpcnlhkS9yb",
        "outputId": "b48b255d-b19a-48ec-c87a-5cb4fa72c9b2"
      },
      "execution_count": 9,
      "outputs": [
        {
          "output_type": "stream",
          "name": "stdout",
          "text": [
            "[[0. 0. 0. ... 0. 0. 0.]\n",
            " [0. 0. 0. ... 0. 0. 0.]\n",
            " [0. 0. 0. ... 0. 0. 0.]\n",
            " ...\n",
            " [0. 0. 0. ... 0. 0. 0.]\n",
            " [0. 0. 0. ... 0. 0. 0.]\n",
            " [0. 0. 0. ... 0. 0. 0.]]\n"
          ]
        }
      ]
    },
    {
      "cell_type": "markdown",
      "source": [
        "##Fit LSTM Model"
      ],
      "metadata": {
        "id": "whJmgP25TvUr"
      }
    },
    {
      "cell_type": "code",
      "source": [
        "model = Sequential(name='LSTM')\n",
        "model.add(Embedding(vocab_size, 10, input_length=3))\n",
        "model.add(LSTM(512, return_sequences=True))\n",
        "model.add(LSTM(512))\n",
        "model.add(Dense(512, activation=\"relu\"))\n",
        "model.add(Dense(vocab_size, activation=\"softmax\"))\n",
        "model.summary()"
      ],
      "metadata": {
        "colab": {
          "base_uri": "https://localhost:8080/"
        },
        "id": "AOwtfz5_TKFS",
        "outputId": "b948b07e-22a7-4bfa-bb27-81c6c0f858a7"
      },
      "execution_count": 10,
      "outputs": [
        {
          "output_type": "stream",
          "name": "stdout",
          "text": [
            "Model: \"LSTM\"\n",
            "_________________________________________________________________\n",
            " Layer (type)                Output Shape              Param #   \n",
            "=================================================================\n",
            " embedding (Embedding)       (None, 3, 10)             74950     \n",
            "                                                                 \n",
            " lstm (LSTM)                 (None, 3, 512)            1071104   \n",
            "                                                                 \n",
            " lstm_1 (LSTM)               (None, 512)               2099200   \n",
            "                                                                 \n",
            " dense (Dense)               (None, 512)               262656    \n",
            "                                                                 \n",
            " dense_1 (Dense)             (None, 7495)              3844935   \n",
            "                                                                 \n",
            "=================================================================\n",
            "Total params: 7,352,845\n",
            "Trainable params: 7,352,845\n",
            "Non-trainable params: 0\n",
            "_________________________________________________________________\n"
          ]
        }
      ]
    },
    {
      "cell_type": "markdown",
      "source": [
        "Plot the model"
      ],
      "metadata": {
        "id": "RgduyF1QTefo"
      }
    },
    {
      "cell_type": "code",
      "source": [
        "keras.utils.plot_model(model, to_file='plot.png', show_layer_names=True)"
      ],
      "metadata": {
        "colab": {
          "base_uri": "https://localhost:8080/",
          "height": 564
        },
        "id": "YuP52VNVTKKx",
        "outputId": "42d48977-23c9-4f51-832b-0aca50372112"
      },
      "execution_count": 11,
      "outputs": [
        {
          "output_type": "execute_result",
          "data": {
            "image/png": "[encoded data removed]",
            "text/plain": [
              "<IPython.core.display.Image object>"
            ]
          },
          "metadata": {},
          "execution_count": 11
        }
      ]
    },
    {
      "cell_type": "code",
      "source": [
        "checkpoint = ModelCheckpoint('next_words.h5', monitor = 'loss', verbose = 1, save_best_only = True)"
      ],
      "metadata": {
        "id": "K5ASm5BfTKNL"
      },
      "execution_count": 12,
      "outputs": []
    },
    {
      "cell_type": "code",
      "source": [
        "model.compile(loss='categorical_crossentropy', optimizer = 'adam', metrics = ['accuracy'])\n",
        "model.fit(X, y, epochs = 85, batch_size = 64, callbacks=[checkpoint])"
      ],
      "metadata": {
        "colab": {
          "base_uri": "https://localhost:8080/"
        },
        "id": "YLEDzSnjTKP9",
        "outputId": "d2b02ab7-96b5-4e8d-c1e9-9acc68e6f542"
      },
      "execution_count": 13,
      "outputs": [
        {
          "output_type": "stream",
          "name": "stdout",
          "text": [
            "Epoch 1/85\n",
            "1226/1226 [==============================] - ETA: 0s - loss: 6.6283 - accuracy: 0.0614\n",
            "Epoch 1: loss improved from inf to 6.62825, saving model to next_words.h5\n",
            "1226/1226 [==============================] - 19s 9ms/step - loss: 6.6283 - accuracy: 0.0614\n",
            "Epoch 2/85\n",
            "1226/1226 [==============================] - ETA: 0s - loss: 6.1224 - accuracy: 0.0911\n",
            "Epoch 2: loss improved from 6.62825 to 6.12241, saving model to next_words.h5\n",
            "1226/1226 [==============================] - 11s 9ms/step - loss: 6.1224 - accuracy: 0.0911\n",
            "Epoch 3/85\n",
            "1222/1226 [============================>.] - ETA: 0s - loss: 5.7620 - accuracy: 0.1167\n",
            "Epoch 3: loss improved from 6.12241 to 5.76160, saving model to next_words.h5\n",
            "1226/1226 [==============================] - 11s 9ms/step - loss: 5.7616 - accuracy: 0.1168\n",
            "Epoch 4/85\n",
            "1221/1226 [============================>.] - ETA: 0s - loss: 5.4719 - accuracy: 0.1322\n",
            "Epoch 4: loss improved from 5.76160 to 5.47128, saving model to next_words.h5\n",
            "1226/1226 [==============================] - 12s 9ms/step - loss: 5.4713 - accuracy: 0.1323\n",
            "Epoch 5/85\n",
            "1226/1226 [==============================] - ETA: 0s - loss: 5.2404 - accuracy: 0.1450\n",
            "Epoch 5: loss improved from 5.47128 to 5.24037, saving model to next_words.h5\n",
            "1226/1226 [==============================] - 12s 9ms/step - loss: 5.2404 - accuracy: 0.1450\n",
            "Epoch 6/85\n",
            "1222/1226 [============================>.] - ETA: 0s - loss: 5.0347 - accuracy: 0.1549\n",
            "Epoch 6: loss improved from 5.24037 to 5.03516, saving model to next_words.h5\n",
            "1226/1226 [==============================] - 12s 9ms/step - loss: 5.0352 - accuracy: 0.1548\n",
            "Epoch 7/85\n",
            "1226/1226 [==============================] - ETA: 0s - loss: 4.8300 - accuracy: 0.1624\n",
            "Epoch 7: loss improved from 5.03516 to 4.83003, saving model to next_words.h5\n",
            "1226/1226 [==============================] - 12s 9ms/step - loss: 4.8300 - accuracy: 0.1624\n",
            "Epoch 8/85\n",
            "1223/1226 [============================>.] - ETA: 0s - loss: 4.6105 - accuracy: 0.1711\n",
            "Epoch 8: loss improved from 4.83003 to 4.61115, saving model to next_words.h5\n",
            "1226/1226 [==============================] - 11s 9ms/step - loss: 4.6111 - accuracy: 0.1710\n",
            "Epoch 9/85\n",
            "1222/1226 [============================>.] - ETA: 0s - loss: 4.3761 - accuracy: 0.1808\n",
            "Epoch 9: loss improved from 4.61115 to 4.37608, saving model to next_words.h5\n",
            "1226/1226 [==============================] - 12s 10ms/step - loss: 4.3761 - accuracy: 0.1807\n",
            "Epoch 10/85\n",
            "1226/1226 [==============================] - ETA: 0s - loss: 4.1286 - accuracy: 0.1924\n",
            "Epoch 10: loss improved from 4.37608 to 4.12857, saving model to next_words.h5\n",
            "1226/1226 [==============================] - 12s 10ms/step - loss: 4.1286 - accuracy: 0.1924\n",
            "Epoch 11/85\n",
            "1224/1226 [============================>.] - ETA: 0s - loss: 3.8678 - accuracy: 0.2114\n",
            "Epoch 11: loss improved from 4.12857 to 3.86769, saving model to next_words.h5\n",
            "1226/1226 [==============================] - 12s 9ms/step - loss: 3.8677 - accuracy: 0.2115\n",
            "Epoch 12/85\n",
            "1224/1226 [============================>.] - ETA: 0s - loss: 3.6058 - accuracy: 0.2396\n",
            "Epoch 12: loss improved from 3.86769 to 3.60584, saving model to next_words.h5\n",
            "1226/1226 [==============================] - 11s 9ms/step - loss: 3.6058 - accuracy: 0.2396\n",
            "Epoch 13/85\n",
            "1224/1226 [============================>.] - ETA: 0s - loss: 3.3544 - accuracy: 0.2713\n",
            "Epoch 13: loss improved from 3.60584 to 3.35490, saving model to next_words.h5\n",
            "1226/1226 [==============================] - 11s 9ms/step - loss: 3.3549 - accuracy: 0.2711\n",
            "Epoch 14/85\n",
            "1222/1226 [============================>.] - ETA: 0s - loss: 3.1182 - accuracy: 0.3048\n",
            "Epoch 14: loss improved from 3.35490 to 3.11797, saving model to next_words.h5\n",
            "1226/1226 [==============================] - 11s 9ms/step - loss: 3.1180 - accuracy: 0.3049\n",
            "Epoch 15/85\n",
            "1222/1226 [============================>.] - ETA: 0s - loss: 2.8966 - accuracy: 0.3395\n",
            "Epoch 15: loss improved from 3.11797 to 2.89698, saving model to next_words.h5\n",
            "1226/1226 [==============================] - 12s 9ms/step - loss: 2.8970 - accuracy: 0.3393\n",
            "Epoch 16/85\n",
            "1224/1226 [============================>.] - ETA: 0s - loss: 2.6944 - accuracy: 0.3715\n",
            "Epoch 16: loss improved from 2.89698 to 2.69453, saving model to next_words.h5\n",
            "1226/1226 [==============================] - 11s 9ms/step - loss: 2.6945 - accuracy: 0.3715\n",
            "Epoch 17/85\n",
            "1224/1226 [============================>.] - ETA: 0s - loss: 2.4980 - accuracy: 0.4041\n",
            "Epoch 17: loss improved from 2.69453 to 2.49837, saving model to next_words.h5\n",
            "1226/1226 [==============================] - 11s 9ms/step - loss: 2.4984 - accuracy: 0.4040\n",
            "Epoch 18/85\n",
            "1221/1226 [============================>.] - ETA: 0s - loss: 2.3124 - accuracy: 0.4379\n",
            "Epoch 18: loss improved from 2.49837 to 2.31329, saving model to next_words.h5\n",
            "1226/1226 [==============================] - 11s 9ms/step - loss: 2.3133 - accuracy: 0.4377\n",
            "Epoch 19/85\n",
            "1225/1226 [============================>.] - ETA: 0s - loss: 2.1324 - accuracy: 0.4732\n",
            "Epoch 19: loss improved from 2.31329 to 2.13253, saving model to next_words.h5\n",
            "1226/1226 [==============================] - 12s 9ms/step - loss: 2.1325 - accuracy: 0.4731\n",
            "Epoch 20/85\n",
            "1223/1226 [============================>.] - ETA: 0s - loss: 1.9674 - accuracy: 0.5052\n",
            "Epoch 20: loss improved from 2.13253 to 1.96772, saving model to next_words.h5\n",
            "1226/1226 [==============================] - 11s 9ms/step - loss: 1.9677 - accuracy: 0.5051\n",
            "Epoch 21/85\n",
            "1224/1226 [============================>.] - ETA: 0s - loss: 1.8064 - accuracy: 0.5369\n",
            "Epoch 21: loss improved from 1.96772 to 1.80631, saving model to next_words.h5\n",
            "1226/1226 [==============================] - 12s 10ms/step - loss: 1.8063 - accuracy: 0.5369\n",
            "Epoch 22/85\n",
            "1226/1226 [==============================] - ETA: 0s - loss: 1.6573 - accuracy: 0.5727\n",
            "Epoch 22: loss improved from 1.80631 to 1.65735, saving model to next_words.h5\n",
            "1226/1226 [==============================] - 11s 9ms/step - loss: 1.6573 - accuracy: 0.5727\n",
            "Epoch 23/85\n",
            "1223/1226 [============================>.] - ETA: 0s - loss: 1.5191 - accuracy: 0.6031\n",
            "Epoch 23: loss improved from 1.65735 to 1.51961, saving model to next_words.h5\n",
            "1226/1226 [==============================] - 11s 9ms/step - loss: 1.5196 - accuracy: 0.6029\n",
            "Epoch 24/85\n",
            "1225/1226 [============================>.] - ETA: 0s - loss: 1.3893 - accuracy: 0.6354\n",
            "Epoch 24: loss improved from 1.51961 to 1.38920, saving model to next_words.h5\n",
            "1226/1226 [==============================] - 12s 9ms/step - loss: 1.3892 - accuracy: 0.6355\n",
            "Epoch 25/85\n",
            "1226/1226 [==============================] - ETA: 0s - loss: 1.2731 - accuracy: 0.6610\n",
            "Epoch 25: loss improved from 1.38920 to 1.27312, saving model to next_words.h5\n",
            "1226/1226 [==============================] - 12s 9ms/step - loss: 1.2731 - accuracy: 0.6610\n",
            "Epoch 26/85\n",
            "1222/1226 [============================>.] - ETA: 0s - loss: 1.1658 - accuracy: 0.6886\n",
            "Epoch 26: loss improved from 1.27312 to 1.16668, saving model to next_words.h5\n",
            "1226/1226 [==============================] - 11s 9ms/step - loss: 1.1667 - accuracy: 0.6883\n",
            "Epoch 27/85\n",
            "1224/1226 [============================>.] - ETA: 0s - loss: 1.0642 - accuracy: 0.7140\n",
            "Epoch 27: loss improved from 1.16668 to 1.06495, saving model to next_words.h5\n",
            "1226/1226 [==============================] - 11s 9ms/step - loss: 1.0650 - accuracy: 0.7138\n",
            "Epoch 28/85\n",
            "1222/1226 [============================>.] - ETA: 0s - loss: 0.9800 - accuracy: 0.7363\n",
            "Epoch 28: loss improved from 1.06495 to 0.98042, saving model to next_words.h5\n",
            "1226/1226 [==============================] - 11s 9ms/step - loss: 0.9804 - accuracy: 0.7361\n",
            "Epoch 29/85\n",
            "1222/1226 [============================>.] - ETA: 0s - loss: 0.9055 - accuracy: 0.7555\n",
            "Epoch 29: loss improved from 0.98042 to 0.90599, saving model to next_words.h5\n",
            "1226/1226 [==============================] - 12s 10ms/step - loss: 0.9060 - accuracy: 0.7554\n",
            "Epoch 30/85\n",
            "1226/1226 [==============================] - ETA: 0s - loss: 0.8316 - accuracy: 0.7738\n",
            "Epoch 30: loss improved from 0.90599 to 0.83157, saving model to next_words.h5\n",
            "1226/1226 [==============================] - 11s 9ms/step - loss: 0.8316 - accuracy: 0.7738\n",
            "Epoch 31/85\n",
            "1223/1226 [============================>.] - ETA: 0s - loss: 0.7764 - accuracy: 0.7886\n",
            "Epoch 31: loss improved from 0.83157 to 0.77685, saving model to next_words.h5\n",
            "1226/1226 [==============================] - 12s 9ms/step - loss: 0.7768 - accuracy: 0.7886\n",
            "Epoch 32/85\n",
            "1222/1226 [============================>.] - ETA: 0s - loss: 0.7288 - accuracy: 0.8011\n",
            "Epoch 32: loss improved from 0.77685 to 0.72881, saving model to next_words.h5\n",
            "1226/1226 [==============================] - 12s 10ms/step - loss: 0.7288 - accuracy: 0.8010\n",
            "Epoch 33/85\n",
            "1222/1226 [============================>.] - ETA: 0s - loss: 0.6834 - accuracy: 0.8131\n",
            "Epoch 33: loss improved from 0.72881 to 0.68447, saving model to next_words.h5\n",
            "1226/1226 [==============================] - 12s 10ms/step - loss: 0.6845 - accuracy: 0.8127\n",
            "Epoch 34/85\n",
            "1225/1226 [============================>.] - ETA: 0s - loss: 0.6455 - accuracy: 0.8219\n",
            "Epoch 34: loss improved from 0.68447 to 0.64583, saving model to next_words.h5\n",
            "1226/1226 [==============================] - 12s 9ms/step - loss: 0.6458 - accuracy: 0.8218\n",
            "Epoch 35/85\n",
            "1221/1226 [============================>.] - ETA: 0s - loss: 0.6183 - accuracy: 0.8292\n",
            "Epoch 35: loss improved from 0.64583 to 0.61871, saving model to next_words.h5\n",
            "1226/1226 [==============================] - 11s 9ms/step - loss: 0.6187 - accuracy: 0.8291\n",
            "Epoch 36/85\n",
            "1223/1226 [============================>.] - ETA: 0s - loss: 0.5878 - accuracy: 0.8367\n",
            "Epoch 36: loss improved from 0.61871 to 0.58870, saving model to next_words.h5\n",
            "1226/1226 [==============================] - 12s 9ms/step - loss: 0.5887 - accuracy: 0.8365\n",
            "Epoch 37/85\n",
            "1223/1226 [============================>.] - ETA: 0s - loss: 0.5683 - accuracy: 0.8418\n",
            "Epoch 37: loss improved from 0.58870 to 0.56850, saving model to next_words.h5\n",
            "1226/1226 [==============================] - 12s 9ms/step - loss: 0.5685 - accuracy: 0.8417\n",
            "Epoch 38/85\n",
            "1225/1226 [============================>.] - ETA: 0s - loss: 0.5486 - accuracy: 0.8462\n",
            "Epoch 38: loss improved from 0.56850 to 0.54882, saving model to next_words.h5\n",
            "1226/1226 [==============================] - 11s 9ms/step - loss: 0.5488 - accuracy: 0.8462\n",
            "Epoch 39/85\n",
            "1223/1226 [============================>.] - ETA: 0s - loss: 0.5330 - accuracy: 0.8491\n",
            "Epoch 39: loss improved from 0.54882 to 0.53328, saving model to next_words.h5\n",
            "1226/1226 [==============================] - 11s 9ms/step - loss: 0.5333 - accuracy: 0.8490\n",
            "Epoch 40/85\n",
            "1225/1226 [============================>.] - ETA: 0s - loss: 0.5106 - accuracy: 0.8539\n",
            "Epoch 40: loss improved from 0.53328 to 0.51061, saving model to next_words.h5\n",
            "1226/1226 [==============================] - 12s 9ms/step - loss: 0.5106 - accuracy: 0.8539\n",
            "Epoch 41/85\n",
            "1226/1226 [==============================] - ETA: 0s - loss: 0.4976 - accuracy: 0.8578\n",
            "Epoch 41: loss improved from 0.51061 to 0.49762, saving model to next_words.h5\n",
            "1226/1226 [==============================] - 12s 9ms/step - loss: 0.4976 - accuracy: 0.8578\n",
            "Epoch 42/85\n",
            "1222/1226 [============================>.] - ETA: 0s - loss: 0.4849 - accuracy: 0.8595\n",
            "Epoch 42: loss improved from 0.49762 to 0.48485, saving model to next_words.h5\n",
            "1226/1226 [==============================] - 11s 9ms/step - loss: 0.4849 - accuracy: 0.8595\n",
            "Epoch 43/85\n",
            "1225/1226 [============================>.] - ETA: 0s - loss: 0.4742 - accuracy: 0.8618\n",
            "Epoch 43: loss improved from 0.48485 to 0.47421, saving model to next_words.h5\n",
            "1226/1226 [==============================] - 12s 9ms/step - loss: 0.4742 - accuracy: 0.8618\n",
            "Epoch 44/85\n",
            "1222/1226 [============================>.] - ETA: 0s - loss: 0.4685 - accuracy: 0.8631\n",
            "Epoch 44: loss improved from 0.47421 to 0.46900, saving model to next_words.h5\n",
            "1226/1226 [==============================] - 12s 10ms/step - loss: 0.4690 - accuracy: 0.8631\n",
            "Epoch 45/85\n",
            "1226/1226 [==============================] - ETA: 0s - loss: 0.4596 - accuracy: 0.8639\n",
            "Epoch 45: loss improved from 0.46900 to 0.45963, saving model to next_words.h5\n",
            "1226/1226 [==============================] - 12s 9ms/step - loss: 0.4596 - accuracy: 0.8639\n",
            "Epoch 46/85\n",
            "1225/1226 [============================>.] - ETA: 0s - loss: 0.4446 - accuracy: 0.8666\n",
            "Epoch 46: loss improved from 0.45963 to 0.44468, saving model to next_words.h5\n",
            "1226/1226 [==============================] - 12s 9ms/step - loss: 0.4447 - accuracy: 0.8666\n",
            "Epoch 47/85\n",
            "1223/1226 [============================>.] - ETA: 0s - loss: 0.4382 - accuracy: 0.8687\n",
            "Epoch 47: loss improved from 0.44468 to 0.43823, saving model to next_words.h5\n",
            "1226/1226 [==============================] - 12s 9ms/step - loss: 0.4382 - accuracy: 0.8686\n",
            "Epoch 48/85\n",
            "1221/1226 [============================>.] - ETA: 0s - loss: 0.4353 - accuracy: 0.8674\n",
            "Epoch 48: loss improved from 0.43823 to 0.43551, saving model to next_words.h5\n",
            "1226/1226 [==============================] - 11s 9ms/step - loss: 0.4355 - accuracy: 0.8673\n",
            "Epoch 49/85\n",
            "1226/1226 [==============================] - ETA: 0s - loss: 0.4204 - accuracy: 0.8699\n",
            "Epoch 49: loss improved from 0.43551 to 0.42038, saving model to next_words.h5\n",
            "1226/1226 [==============================] - 11s 9ms/step - loss: 0.4204 - accuracy: 0.8699\n",
            "Epoch 50/85\n",
            "1225/1226 [============================>.] - ETA: 0s - loss: 0.4222 - accuracy: 0.8694\n",
            "Epoch 50: loss did not improve from 0.42038\n",
            "1226/1226 [==============================] - 11s 9ms/step - loss: 0.4222 - accuracy: 0.8694\n",
            "Epoch 51/85\n",
            "1226/1226 [==============================] - ETA: 0s - loss: 0.4166 - accuracy: 0.8695\n",
            "Epoch 51: loss improved from 0.42038 to 0.41661, saving model to next_words.h5\n",
            "1226/1226 [==============================] - 12s 9ms/step - loss: 0.4166 - accuracy: 0.8695\n",
            "Epoch 52/85\n",
            "1224/1226 [============================>.] - ETA: 0s - loss: 0.4047 - accuracy: 0.8714\n",
            "Epoch 52: loss improved from 0.41661 to 0.40461, saving model to next_words.h5\n",
            "1226/1226 [==============================] - 11s 9ms/step - loss: 0.4046 - accuracy: 0.8714\n",
            "Epoch 53/85\n",
            "1221/1226 [============================>.] - ETA: 0s - loss: 0.3991 - accuracy: 0.8737\n",
            "Epoch 53: loss improved from 0.40461 to 0.39930, saving model to next_words.h5\n",
            "1226/1226 [==============================] - 11s 9ms/step - loss: 0.3993 - accuracy: 0.8736\n",
            "Epoch 54/85\n",
            "1223/1226 [============================>.] - ETA: 0s - loss: 0.3938 - accuracy: 0.8740\n",
            "Epoch 54: loss improved from 0.39930 to 0.39376, saving model to next_words.h5\n",
            "1226/1226 [==============================] - 11s 9ms/step - loss: 0.3938 - accuracy: 0.8740\n",
            "Epoch 55/85\n",
            "1225/1226 [============================>.] - ETA: 0s - loss: 0.3930 - accuracy: 0.8734\n",
            "Epoch 55: loss improved from 0.39376 to 0.39304, saving model to next_words.h5\n",
            "1226/1226 [==============================] - 12s 9ms/step - loss: 0.3930 - accuracy: 0.8733\n",
            "Epoch 56/85\n",
            "1222/1226 [============================>.] - ETA: 0s - loss: 0.3865 - accuracy: 0.8734\n",
            "Epoch 56: loss improved from 0.39304 to 0.38674, saving model to next_words.h5\n",
            "1226/1226 [==============================] - 12s 10ms/step - loss: 0.3867 - accuracy: 0.8733\n",
            "Epoch 57/85\n",
            "1222/1226 [============================>.] - ETA: 0s - loss: 0.3796 - accuracy: 0.8750\n",
            "Epoch 57: loss improved from 0.38674 to 0.37971, saving model to next_words.h5\n",
            "1226/1226 [==============================] - 12s 9ms/step - loss: 0.3797 - accuracy: 0.8749\n",
            "Epoch 58/85\n",
            "1223/1226 [============================>.] - ETA: 0s - loss: 0.3764 - accuracy: 0.8752\n",
            "Epoch 58: loss improved from 0.37971 to 0.37661, saving model to next_words.h5\n",
            "1226/1226 [==============================] - 12s 9ms/step - loss: 0.3766 - accuracy: 0.8751\n",
            "Epoch 59/85\n",
            "1224/1226 [============================>.] - ETA: 0s - loss: 0.3740 - accuracy: 0.8751\n",
            "Epoch 59: loss improved from 0.37661 to 0.37394, saving model to next_words.h5\n",
            "1226/1226 [==============================] - 12s 9ms/step - loss: 0.3739 - accuracy: 0.8751\n",
            "Epoch 60/85\n",
            "1226/1226 [==============================] - ETA: 0s - loss: 0.3696 - accuracy: 0.8763\n",
            "Epoch 60: loss improved from 0.37394 to 0.36960, saving model to next_words.h5\n",
            "1226/1226 [==============================] - 12s 9ms/step - loss: 0.3696 - accuracy: 0.8763\n",
            "Epoch 61/85\n",
            "1225/1226 [============================>.] - ETA: 0s - loss: 0.3677 - accuracy: 0.8753\n",
            "Epoch 61: loss improved from 0.36960 to 0.36769, saving model to next_words.h5\n",
            "1226/1226 [==============================] - 12s 9ms/step - loss: 0.3677 - accuracy: 0.8753\n",
            "Epoch 62/85\n",
            "1226/1226 [==============================] - ETA: 0s - loss: 0.3625 - accuracy: 0.8762\n",
            "Epoch 62: loss improved from 0.36769 to 0.36248, saving model to next_words.h5\n",
            "1226/1226 [==============================] - 12s 9ms/step - loss: 0.3625 - accuracy: 0.8762\n",
            "Epoch 63/85\n",
            "1226/1226 [==============================] - ETA: 0s - loss: 0.3584 - accuracy: 0.8765\n",
            "Epoch 63: loss improved from 0.36248 to 0.35835, saving model to next_words.h5\n",
            "1226/1226 [==============================] - 12s 9ms/step - loss: 0.3584 - accuracy: 0.8765\n",
            "Epoch 64/85\n",
            "1225/1226 [============================>.] - ETA: 0s - loss: 0.3572 - accuracy: 0.8766\n",
            "Epoch 64: loss improved from 0.35835 to 0.35728, saving model to next_words.h5\n",
            "1226/1226 [==============================] - 12s 9ms/step - loss: 0.3573 - accuracy: 0.8766\n",
            "Epoch 65/85\n",
            "1225/1226 [============================>.] - ETA: 0s - loss: 0.3543 - accuracy: 0.8769\n",
            "Epoch 65: loss improved from 0.35728 to 0.35435, saving model to next_words.h5\n",
            "1226/1226 [==============================] - 12s 9ms/step - loss: 0.3543 - accuracy: 0.8769\n",
            "Epoch 66/85\n",
            "1225/1226 [============================>.] - ETA: 0s - loss: 0.3459 - accuracy: 0.8784\n",
            "Epoch 66: loss improved from 0.35435 to 0.34595, saving model to next_words.h5\n",
            "1226/1226 [==============================] - 12s 9ms/step - loss: 0.3459 - accuracy: 0.8784\n",
            "Epoch 67/85\n",
            "1223/1226 [============================>.] - ETA: 0s - loss: 0.3502 - accuracy: 0.8769\n",
            "Epoch 67: loss did not improve from 0.34595\n",
            "1226/1226 [==============================] - 11s 9ms/step - loss: 0.3502 - accuracy: 0.8769\n",
            "Epoch 68/85\n",
            "1223/1226 [============================>.] - ETA: 0s - loss: 0.3422 - accuracy: 0.8780\n",
            "Epoch 68: loss improved from 0.34595 to 0.34270, saving model to next_words.h5\n",
            "1226/1226 [==============================] - 12s 10ms/step - loss: 0.3427 - accuracy: 0.8779\n",
            "Epoch 69/85\n",
            "1226/1226 [==============================] - ETA: 0s - loss: 0.3466 - accuracy: 0.8760\n",
            "Epoch 69: loss did not improve from 0.34270\n",
            "1226/1226 [==============================] - 11s 9ms/step - loss: 0.3466 - accuracy: 0.8760\n",
            "Epoch 70/85\n",
            "1225/1226 [============================>.] - ETA: 0s - loss: 0.3374 - accuracy: 0.8780\n",
            "Epoch 70: loss improved from 0.34270 to 0.33759, saving model to next_words.h5\n",
            "1226/1226 [==============================] - 12s 9ms/step - loss: 0.3376 - accuracy: 0.8780\n",
            "Epoch 71/85\n",
            "1226/1226 [==============================] - ETA: 0s - loss: 0.3318 - accuracy: 0.8784\n",
            "Epoch 71: loss improved from 0.33759 to 0.33178, saving model to next_words.h5\n",
            "1226/1226 [==============================] - 12s 9ms/step - loss: 0.3318 - accuracy: 0.8784\n",
            "Epoch 72/85\n",
            "1224/1226 [============================>.] - ETA: 0s - loss: 0.3323 - accuracy: 0.8798\n",
            "Epoch 72: loss did not improve from 0.33178\n",
            "1226/1226 [==============================] - 11s 9ms/step - loss: 0.3322 - accuracy: 0.8798\n",
            "Epoch 73/85\n",
            "1223/1226 [============================>.] - ETA: 0s - loss: 0.3326 - accuracy: 0.8787\n",
            "Epoch 73: loss did not improve from 0.33178\n",
            "1226/1226 [==============================] - 11s 9ms/step - loss: 0.3326 - accuracy: 0.8787\n",
            "Epoch 74/85\n",
            "1222/1226 [============================>.] - ETA: 0s - loss: 0.3301 - accuracy: 0.8787\n",
            "Epoch 74: loss improved from 0.33178 to 0.33018, saving model to next_words.h5\n",
            "1226/1226 [==============================] - 12s 9ms/step - loss: 0.3302 - accuracy: 0.8786\n",
            "Epoch 75/85\n",
            "1221/1226 [============================>.] - ETA: 0s - loss: 0.3252 - accuracy: 0.8795\n",
            "Epoch 75: loss improved from 0.33018 to 0.32545, saving model to next_words.h5\n",
            "1226/1226 [==============================] - 12s 9ms/step - loss: 0.3255 - accuracy: 0.8794\n",
            "Epoch 76/85\n",
            "1221/1226 [============================>.] - ETA: 0s - loss: 0.3273 - accuracy: 0.8779\n",
            "Epoch 76: loss did not improve from 0.32545\n",
            "1226/1226 [==============================] - 11s 9ms/step - loss: 0.3275 - accuracy: 0.8778\n",
            "Epoch 77/85\n",
            "1225/1226 [============================>.] - ETA: 0s - loss: 0.3201 - accuracy: 0.8791\n",
            "Epoch 77: loss improved from 0.32545 to 0.32025, saving model to next_words.h5\n",
            "1226/1226 [==============================] - 11s 9ms/step - loss: 0.3203 - accuracy: 0.8791\n",
            "Epoch 78/85\n",
            "1226/1226 [==============================] - ETA: 0s - loss: 0.3206 - accuracy: 0.8791\n",
            "Epoch 78: loss did not improve from 0.32025\n",
            "1226/1226 [==============================] - 12s 9ms/step - loss: 0.3206 - accuracy: 0.8791\n",
            "Epoch 79/85\n",
            "1222/1226 [============================>.] - ETA: 0s - loss: 0.3182 - accuracy: 0.8798\n",
            "Epoch 79: loss improved from 0.32025 to 0.31846, saving model to next_words.h5\n",
            "1226/1226 [==============================] - 12s 9ms/step - loss: 0.3185 - accuracy: 0.8797\n",
            "Epoch 80/85\n",
            "1226/1226 [==============================] - ETA: 0s - loss: 0.3152 - accuracy: 0.8801\n",
            "Epoch 80: loss improved from 0.31846 to 0.31516, saving model to next_words.h5\n",
            "1226/1226 [==============================] - 12s 10ms/step - loss: 0.3152 - accuracy: 0.8801\n",
            "Epoch 81/85\n",
            "1226/1226 [==============================] - ETA: 0s - loss: 0.3167 - accuracy: 0.8788\n",
            "Epoch 81: loss did not improve from 0.31516\n",
            "1226/1226 [==============================] - 11s 9ms/step - loss: 0.3167 - accuracy: 0.8788\n",
            "Epoch 82/85\n",
            "1224/1226 [============================>.] - ETA: 0s - loss: 0.3174 - accuracy: 0.8786\n",
            "Epoch 82: loss did not improve from 0.31516\n",
            "1226/1226 [==============================] - 12s 9ms/step - loss: 0.3175 - accuracy: 0.8785\n",
            "Epoch 83/85\n",
            "1224/1226 [============================>.] - ETA: 0s - loss: 0.3064 - accuracy: 0.8807\n",
            "Epoch 83: loss improved from 0.31516 to 0.30659, saving model to next_words.h5\n",
            "1226/1226 [==============================] - 12s 10ms/step - loss: 0.3066 - accuracy: 0.8806\n",
            "Epoch 84/85\n",
            "1221/1226 [============================>.] - ETA: 0s - loss: 0.3073 - accuracy: 0.8811\n",
            "Epoch 84: loss did not improve from 0.30659\n",
            "1226/1226 [==============================] - 12s 9ms/step - loss: 0.3073 - accuracy: 0.8811\n",
            "Epoch 85/85\n",
            "1222/1226 [============================>.] - ETA: 0s - loss: 0.3076 - accuracy: 0.8814\n",
            "Epoch 85: loss did not improve from 0.30659\n",
            "1226/1226 [==============================] - 12s 9ms/step - loss: 0.3080 - accuracy: 0.8812\n"
          ]
        },
        {
          "output_type": "execute_result",
          "data": {
            "text/plain": [
              "<keras.callbacks.History at 0x7f9e34df6410>"
            ]
          },
          "metadata": {},
          "execution_count": 13
        }
      ]
    },
    {
      "cell_type": "markdown",
      "source": [
        "##Test the model"
      ],
      "metadata": {
        "id": "mpRr9OQHUvwM"
      }
    },
    {
      "cell_type": "code",
      "source": [
        "while True:\n",
        "  text = input('Please enter sentence(Please write more than 2 words), 0 to exit: ')\n",
        "  if text != '0':\n",
        "    try:\n",
        "      text = text.split(' ')\n",
        "      text = text[-3: ]\n",
        "      sequence = np.array(tokenizer.texts_to_sequences([text]))\n",
        "\n",
        "      output = np.argpartition(model.predict(sequence)[0], -5)[-5:]\n",
        "      preds = np.argmax(model.predict(sequence))\n",
        "      predicted_word = \"\"    \n",
        "\n",
        "      next_words = []\n",
        "      for key, value in tokenizer.word_index.items():\n",
        "        if value in output:\n",
        "          next_words.append(key)\n",
        "\n",
        "        if value == preds:\n",
        "          predicted_word = key\n",
        "\n",
        "        if len(next_words) == 5:\n",
        "          break\n",
        "      print(f\"Possible predicted words:\\n{next_words}\")\n",
        "      print(f\"Most predicted word: {predicted_word}\")\n",
        "    except Exception as e:\n",
        "      print(e)\n",
        "  else:\n",
        "    break"
      ],
      "metadata": {
        "colab": {
          "base_uri": "https://localhost:8080/"
        },
        "id": "QEg1-MmoTKSX",
        "outputId": "98650923-4ad4-46ad-f698-0deb35fc8b49"
      },
      "execution_count": 16,
      "outputs": [
        {
          "name": "stdout",
          "output_type": "stream",
          "text": [
            "Please enter sentence(Please write more than 2 words), 0 to exit: Yet do not suppose\n",
            "1/1 [==============================] - 0s 16ms/step\n",
            "1/1 [==============================] - 0s 17ms/step\n",
            "Possible predicted words:\n",
            "['who', 'possessed', 'however', 'necessary', 'because']\n",
            "Most predicted word: possessed\n",
            "Please enter sentence(Please write more than 2 words), 0 to exit: My swelling heart\n",
            "1/1 [==============================] - 0s 15ms/step\n",
            "1/1 [==============================] - 0s 16ms/step\n",
            "Possible predicted words:\n",
            "['and', 'of', 'to', 'in', 'involuntarily']\n",
            "Most predicted word: involuntarily\n",
            "Please enter sentence(Please write more than 2 words), 0 to exit: Why not still proceed over the untamed yet obedient element? What can\n",
            "1/1 [==============================] - 1s 866ms/step\n",
            "1/1 [==============================] - 0s 14ms/step\n",
            "Possible predicted words:\n",
            "['i', 'my', 'you', 'be', 'have']\n",
            "Most predicted word: be\n",
            "Please enter sentence(Please write more than 2 words), 0 to exit: 0\n"
          ]
        }
      ]
    }
  ]
}